{
 "cells": [
  {
   "cell_type": "markdown",
   "metadata": {},
   "source": [
    "# 1-2 Intro Python Practice\n",
    "## Strings: input, testing, formatting\n",
    "<font size=\"5\" color=\"#00A0B2\"  face=\"verdana\"> <B>Student will be able to</B></font>\n",
    "- gather, store and use string `input()`  \n",
    "- format `print()` output  \n",
    "- test string characteristics  \n",
    "- format string output  \n",
    "- search for a string in a string  "
   ]
  },
  {
   "cell_type": "markdown",
   "metadata": {},
   "source": [
    "## input()\n",
    "getting input from users"
   ]
  },
  {
   "cell_type": "code",
   "execution_count": null,
   "metadata": {
    "scrolled": true
   },
   "outputs": [],
   "source": [
    "# [ ] get user input for a variable named remind_me\n",
    "remind_me = input()\n",
    "\n",
    "# [ ] print the value of the variable remind_me\n",
    "print(remind_me)\n"
   ]
  },
  {
   "cell_type": "code",
   "execution_count": null,
   "metadata": {},
   "outputs": [],
   "source": [
    "# use string addition to print \"remember: \" before the remind_me input string\n",
    "print(\"remember:\", remind_me)\n"
   ]
  },
  {
   "cell_type": "markdown",
   "metadata": {},
   "source": [
    "### Program: Meeting Details\n",
    "#### [ ] get user **input** for meeting subject and time\n",
    "`what is the meeting subject?: plan for graduation`  \n",
    "`what is the meeting time?: 3:00 PM on Monday`  \n",
    "\n",
    "#### [ ] print **output** with descriptive labels  \n",
    "`Meeting Subject: plan for graduation`  \n",
    "`Meeting Time:    3:00 PM on Monday`"
   ]
  },
  {
   "cell_type": "code",
   "execution_count": null,
   "metadata": {},
   "outputs": [],
   "source": [
    "# [ ] get user input for 2 variables: meeting_subject and meeting_time\n",
    "meeting_subject = input(\"what is the meeting subject? \")\n",
    "meeting_time = input(\"what is the meeting time? \")\n",
    "# [ ] use string addition to print meeting subject and time with labels\n",
    "print(\"Meeting subject:\", meeting_subject)\n",
    "print(\"Meeting time:\", meeting_time)\n",
    "\n",
    "\n"
   ]
  },
  {
   "cell_type": "markdown",
   "metadata": {
    "collapsed": true
   },
   "source": [
    "## print() formatting \n",
    "### combining multiple strings separated by commas in the print() function"
   ]
  },
  {
   "cell_type": "code",
   "execution_count": null,
   "metadata": {},
   "outputs": [],
   "source": [
    "# [ ] print the combined strings \"Wednesday is\" and \"in the middle of the week\" \n",
    "print(\"Wednesday is\" ,\"in the middle of the week\")\n"
   ]
  },
  {
   "cell_type": "code",
   "execution_count": null,
   "metadata": {},
   "outputs": [],
   "source": [
    "# [ ] print combined string \"Remember to\" and the string variable remind_me from input above\n",
    "\n",
    "print(\"Remember the \" + meeting_subject + \" meeting \",\"at\" ,meeting_time + \" and don't forget to \" + remind_me )"
   ]
  },
  {
   "cell_type": "code",
   "execution_count": null,
   "metadata": {},
   "outputs": [],
   "source": [
    "# [ ] Combine 3 variables from above with multiple strings\n",
    "print(\"Remember to \" + remind_me )\n"
   ]
  },
  {
   "cell_type": "markdown",
   "metadata": {
    "collapsed": true
   },
   "source": [
    "### print() quotation marks"
   ]
  },
  {
   "cell_type": "code",
   "execution_count": null,
   "metadata": {},
   "outputs": [],
   "source": [
    "# [ ] print a string sentence that will display an Apostrophe (')\n",
    "\n",
    "print(\"today's date is 9/3/2020\")\n"
   ]
  },
  {
   "cell_type": "code",
   "execution_count": null,
   "metadata": {},
   "outputs": [],
   "source": [
    "# [ ] print a string sentence that will display a quote(\") or quotes\n",
    "\n",
    "print('\"Today is a beautiful day!\"')\n"
   ]
  },
  {
   "cell_type": "markdown",
   "metadata": {
    "collapsed": true
   },
   "source": [
    "## Boolean string tests"
   ]
  },
  {
   "cell_type": "markdown",
   "metadata": {},
   "source": [
    "### Vehicle tests  \n",
    "#### get user input for a variable named vehicle  \n",
    "print the following tests results  \n",
    "- check True or False if vehicle is All alphabetical characters using .isalpha()  \n",
    "- check True or False if vehicle is only All alphabetical & numeric characters  \n",
    "- check True or False if vehicle is Capitalized (first letter only)  \n",
    "- check True or False if vehicle is All lowercase  \n",
    "- **bonus** print description for each test (e.g.- `\"All Alpha: True\"`)"
   ]
  },
  {
   "cell_type": "code",
   "execution_count": 1,
   "metadata": {},
   "outputs": [
    {
     "name": "stdout",
     "output_type": "stream",
     "text": [
      "Print the name of vehicle: Audi\n",
      "All alphabetical characters: True\n",
      "All alphabetical & numeric characters: True\n",
      "Capitalized: True\n",
      "All lowercase: False\n"
     ]
    }
   ],
   "source": [
    "# [ ] complete vehicle tests \n",
    "vehicle = input('Print the name of vehicle: ')\n",
    "print('All alphabetical characters:', vehicle.isalpha())\n",
    "print('All alphabetical & numeric characters:', vehicle.isalnum())\n",
    "print('Capitalized:', vehicle.istitle())\n",
    "print('All lowercase:', vehicle.islower())\n",
    "\n",
    "\n"
   ]
  },
  {
   "cell_type": "code",
   "execution_count": 2,
   "metadata": {},
   "outputs": [
    {
     "name": "stdout",
     "output_type": "stream",
     "text": [
      "False\n"
     ]
    }
   ],
   "source": [
    "# [ ] print True or False if color starts with \"b\" \n",
    "\n",
    "print('color'.startswith('b'))"
   ]
  },
  {
   "cell_type": "markdown",
   "metadata": {},
   "source": [
    "## Sting formatting"
   ]
  },
  {
   "cell_type": "code",
   "execution_count": 3,
   "metadata": {},
   "outputs": [
    {
     "name": "stdout",
     "output_type": "stream",
     "text": [
      "The time is noon.\n"
     ]
    }
   ],
   "source": [
    "# [ ] print the string variable capital_this Capitalizing only the first letter\n",
    "capitalize_this = \"the TIME is Noon.\"\n",
    "\n",
    "capitalize_this = \"the TIME is Noon.\"\n",
    "print(capitalize_this.capitalize())"
   ]
  },
  {
   "cell_type": "code",
   "execution_count": 4,
   "metadata": {},
   "outputs": [
    {
     "name": "stdout",
     "output_type": "stream",
     "text": [
      "Who WRITES like This?\n"
     ]
    }
   ],
   "source": [
    "# print the string variable swap_this in swapped case\n",
    "swap_this = \"wHO writes LIKE tHIS?\"\n",
    "\n",
    "print(swap_this.swapcase())"
   ]
  },
  {
   "cell_type": "code",
   "execution_count": 5,
   "metadata": {},
   "outputs": [
    {
     "name": "stdout",
     "output_type": "stream",
     "text": [
      "can you hear me?\n"
     ]
    }
   ],
   "source": [
    "# print the string variable whisper_this in all lowercase\n",
    "whisper_this = \"Can you hear me?\"\n",
    "\n",
    "print(whisper_this.lower())"
   ]
  },
  {
   "cell_type": "code",
   "execution_count": 6,
   "metadata": {},
   "outputs": [
    {
     "name": "stdout",
     "output_type": "stream",
     "text": [
      "CAN YOU HEAR ME NOW!?\n"
     ]
    }
   ],
   "source": [
    "# print the string variable yell_this in all UPPERCASE\n",
    "yell_this = \"Can you hear me Now!?\"\n",
    "\n",
    "print(yell_this.upper())"
   ]
  },
  {
   "cell_type": "code",
   "execution_count": 7,
   "metadata": {},
   "outputs": [
    {
     "name": "stdout",
     "output_type": "stream",
     "text": [
      "enter a string to reformat: i am almost finished\n",
      "I AM ALMOST FINISHED\n",
      "i am almost finished\n",
      "I AM ALMOST FINISHED\n",
      "I am almost finished\n"
     ]
    }
   ],
   "source": [
    "#format input using .upper(), .lower(), .swapcase, .capitalize()\n",
    "format_input = input('enter a string to reformat: ')\n",
    "\n",
    "print(format_input.upper())\n",
    "print(format_input.lower())\n",
    "print(format_input.swapcase())\n",
    "print(format_input.capitalize())"
   ]
  },
  {
   "cell_type": "markdown",
   "metadata": {},
   "source": [
    "### input() formatting"
   ]
  },
  {
   "cell_type": "code",
   "execution_count": 8,
   "metadata": {},
   "outputs": [
    {
     "name": "stdout",
     "output_type": "stream",
     "text": [
      "Blue\n",
      "blue\n"
     ]
    }
   ],
   "source": [
    "# [ ] get user input for a variable named color\n",
    "# [ ] modify color to be all lowercase and print\n",
    "\n",
    "color = input()\n",
    "print(color.lower())"
   ]
  },
  {
   "cell_type": "code",
   "execution_count": 9,
   "metadata": {},
   "outputs": [
    {
     "name": "stdout",
     "output_type": "stream",
     "text": [
      "To Finish This Module\n",
      "to finish this module\n"
     ]
    }
   ],
   "source": [
    "# [ ] get user input using variable remind_me and format to all **lowercase** and print\n",
    "# [ ] test using input with mixed upper and lower cases\n",
    "remind_me = input().lower()\n",
    "print(remind_me)\n"
   ]
  },
  {
   "cell_type": "code",
   "execution_count": 10,
   "metadata": {},
   "outputs": [
    {
     "name": "stdout",
     "output_type": "stream",
     "text": [
      "i am almost finished\n",
      "I AM ALMOST FINISHED\n"
     ]
    }
   ],
   "source": [
    "# [] get user input for the variable yell_this and format as a \"YELL\" to ALL CAPS\n",
    "yell_this = input().upper()\n",
    "print(yell_this)"
   ]
  },
  {
   "cell_type": "markdown",
   "metadata": {},
   "source": [
    "## \"in\" keyword\n",
    "### boolean: short_str in long_str"
   ]
  },
  {
   "cell_type": "code",
   "execution_count": 11,
   "metadata": {},
   "outputs": [
    {
     "name": "stdout",
     "output_type": "stream",
     "text": [
      "Print names of animals: rat, dog, pig, horse, cow\n",
      "False\n"
     ]
    }
   ],
   "source": [
    "# [ ] get user input for the name of some animals in the variable animals_input\n",
    "\n",
    "animals_input = input(\"Print names of animals: \")\n",
    "# [ ] print true or false if 'cat' is in the string variable animals_input\n",
    "print('cat' in animals_input)\n"
   ]
  },
  {
   "cell_type": "code",
   "execution_count": 12,
   "metadata": {},
   "outputs": [
    {
     "name": "stdout",
     "output_type": "stream",
     "text": [
      "Blue\n",
      "False\n",
      "Blue Blue BLUE bLUE\n"
     ]
    }
   ],
   "source": [
    "# [ ] get user input for color\n",
    "color = input()\n",
    "\n",
    "# [ ] print True or False for starts with \"b\"\n",
    "print(color.startswith('b'))\n",
    "\n",
    "# [ ] print color variable value exactly as input \n",
    "#     test with input: \"Blue\", \"BLUE\", \"bLUE\"\n",
    "\n",
    "print(color, color.capitalize(), color.upper(), color.swapcase())\n",
    "\n"
   ]
  },
  {
   "cell_type": "markdown",
   "metadata": {},
   "source": [
    "## Program: guess what I'm reading\n",
    "### short_str in long_str\n",
    "\n",
    "1. **[ ]** get user **`input`** for a single word describing something that can be read \n",
    " save in a variable called **can_read**  \n",
    " e.g. - \"website\", \"newspaper\", \"blog\", \"textbook\"  \n",
    " &nbsp;  \n",
    "2. **[ ]** get user **`input`** for 3 things can be read  \n",
    " save in a variable called **can_read_things**  \n",
    "&nbsp;  \n",
    "\n",
    "3. **[ ]** print **`true`** if the **can_read** string is found  \n",
    " **in** the **can_read_things** string variable\n",
    "  \n",
    "*example of program input and output*  \n",
    "[![01 02 practice Allergy-input](https://iajupyterprodblobs.blob.core.windows.net/imagecontainer/guess_reading.gif) ](https://1drv.ms/i/s!Am_KPRosgtaij7A_G6RtDlWZeYA3ZA)\n"
   ]
  },
  {
   "cell_type": "code",
   "execution_count": 13,
   "metadata": {},
   "outputs": [
    {
     "name": "stdout",
     "output_type": "stream",
     "text": [
      "enter 1 word item that can be read: book\n",
      "enter 3 items that can be read: newspaper, blog, website\n",
      "False\n"
     ]
    }
   ],
   "source": [
    "# project: \"guess what I'm reading\"\n",
    "\n",
    "# 1[ ] get 1 word input for can_read variable\n",
    "\n",
    "can_read = input('enter 1 word item that can be read: ')\n",
    "# 2[ ] get 3 things input for can_read_things variable\n",
    "\n",
    "can_read_things = input('enter 3 items that can be read: ')\n",
    "# 3[ ] print True if can_read is in can_read_things\n",
    "print(can_read in can_read_things)\n",
    "\n",
    "# [] challenge: format the output to read \"item found = True\" (or false)\n",
    "# hint: look print formatting exercises\n",
    "\n"
   ]
  },
  {
   "cell_type": "markdown",
   "metadata": {},
   "source": [
    "## Program: Allergy Check\n",
    "\n",
    "1. **[ ]** get user **`input`** for categories of food eaten in the last 24 hours  \n",
    " save in a variable called **input_test**  \n",
    " *example input*\n",
    " [![01 02 practice Allergy-input](https://iajupyterprodblobs.blob.core.windows.net/imagecontainer/eaten_input.gif) ](https://1drv.ms/i/s!Am_KPRosgtaij65qzFD5CGvv95-ijg)\n",
    "&nbsp;  \n",
    "2. **[ ]** print **`True`** if \"dairy\" is in the **input_test** string  \n",
    "**[ ]** Test the code so far  \n",
    "&nbsp;\n",
    "3. **[ ]** modify the print statement to output similar to below  \n",
    "*example output*\n",
    "[![01 02 Allergy output](https://iajupyterprodblobs.blob.core.windows.net/imagecontainer/eaten_output.gif) ](https://1drv.ms/i/s!Am_KPRosgtaij65rET-wmlpCdMX7CQ)  \n",
    "Test the code so far trying input including the string \"dairy\" and without  \n",
    "&nbsp;  \n",
    "\n",
    "4. **[ ]** repeat the process checking the input for \"nuts\", **challenge** add \"Seafood\" and \"chocolate\"  \n",
    "**[ ]** Test your code  \n",
    "&nbsp;  \n",
    "  \n",
    "5. **[ ] challenge:** make your code work for input regardless of case, e.g. - print **`True`** for \"Nuts\", \"NuTs\", \"NUTS\" or \"nuts\"  \n"
   ]
  },
  {
   "cell_type": "code",
   "execution_count": 20,
   "metadata": {},
   "outputs": [
    {
     "name": "stdout",
     "output_type": "stream",
     "text": [
      "enter somethng eaten in the last 24 hrs: seafood, dairy, nuts, and chocolate cake\n",
      "True\n",
      "It is True that \"seafood, dairy, nuts, and chocolate cake\" contains \"dairy\"\n",
      "True\n",
      "True\n",
      "True\n"
     ]
    }
   ],
   "source": [
    "# Allergy check \n",
    "\n",
    "# 1[ ] get input for test\n",
    "input_test = input('enter somethng eaten in the last 24 hrs: ')\n",
    "\n",
    "# 2/3[ ] print True if \"dairy\" is in the input or False if not\n",
    "print('dairy' in input_test)\n",
    "print('It is', \"dairy\" in input_test.lower(), 'that \"' + input_test.lower()+ '\" contains \"dairy\"')\n",
    "\n",
    "# 4[ ] Check if \"nuts\" are in the input\n",
    "print('nuts'.lower()in input_test.lower())\n",
    "# 4+[ ] Challenge: Check if \"seafood\" is in the input\n",
    "print('seafood'.lower() in input_test.lower())\n",
    "# 4+[ ] Challenge: Check if \"chocolate\" is in the input\n",
    "print('chocolate'.lower() in input_test.lower())\n"
   ]
  },
  {
   "cell_type": "markdown",
   "metadata": {},
   "source": [
    "[Terms of use](http://go.microsoft.com/fwlink/?LinkID=206977) &nbsp; [Privacy & cookies](https://go.microsoft.com/fwlink/?LinkId=521839) &nbsp; © 2017 Microsoft"
   ]
  }
 ],
 "metadata": {
  "anaconda-cloud": {},
  "kernelspec": {
   "display_name": "Python 3",
   "language": "python",
   "name": "python3"
  },
  "language_info": {
   "codemirror_mode": {
    "name": "ipython",
    "version": 3
   },
   "file_extension": ".py",
   "mimetype": "text/x-python",
   "name": "python",
   "nbconvert_exporter": "python",
   "pygments_lexer": "ipython3",
   "version": "3.8.3"
  }
 },
 "nbformat": 4,
 "nbformat_minor": 1
}

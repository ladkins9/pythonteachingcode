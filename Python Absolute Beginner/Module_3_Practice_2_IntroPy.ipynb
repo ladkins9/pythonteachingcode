{
 "cells": [
  {
   "cell_type": "markdown",
   "metadata": {},
   "source": [
    "# 1-5 Intro Python Practice  \n",
    "## conditionals, type, and mathematics extended   \n",
    "&nbsp;\n",
    "<font size=\"5\" color=\"#00A0B2\"  face=\"verdana\"> <B>Student will be able to</B></font>  \n",
    "- code more than two choices using **`elif`** \n",
    "- gather numeric input using type casting  \n",
    "- perform subtraction, multiplication and division operations in code  &nbsp;  \n"
   ]
  },
  {
   "cell_type": "markdown",
   "metadata": {},
   "source": [
    "# &nbsp;  \n",
    "<font size=\"6\" color=\"#B24C00\"  face=\"verdana\"> <B>Tasks</B></font>"
   ]
  },
  {
   "cell_type": "markdown",
   "metadata": {},
   "source": [
    "### Rainbow colors\n",
    "ask for input of a favorite rainbow color first letter: ROYGBIV  \n",
    "\n",
    "Using `if`, `elif`, and `else`:  \n",
    "- print the color matching the letter  \n",
    "    - R = Red  \n",
    "    - O = Orange  \n",
    "    - Y = Yellow  \n",
    "    - G = Green\n",
    "    - B = Blue\n",
    "    - I = Indigo\n",
    "    - V = Violet\n",
    "    - else print \"no match\"\n"
   ]
  },
  {
   "cell_type": "code",
   "execution_count": 7,
   "metadata": {},
   "outputs": [
    {
     "name": "stdout",
     "output_type": "stream",
     "text": [
      "What is your favorite rainbow color?: I\n",
      "Your color is Indigo\n"
     ]
    }
   ],
   "source": [
    "# [ ] complete rainbow colors\n",
    "\n",
    "rbow_color = input(\"What is your favorite rainbow color?: \").upper()\n",
    "if rbow_color == \"R\":\n",
    "    print(\"Your color is: Red\")\n",
    "elif rbow_color == \"O\":\n",
    "    print(\"Your color is Orange\")\n",
    "elif rbow_color == \"Y\":\n",
    "    print(\"Your color is Yellow\")\n",
    "elif rbow_color == \"G\":\n",
    "    print(\"Your color is Green\")\n",
    "elif rbow_color == \"B\":\n",
    "    print(\"Your color is Blue\")\n",
    "elif rbow_color == \"I\":\n",
    "    print(\"Your color is Indigo\")\n",
    "elif rbow_color == \"V\":\n",
    "    print(\"Your color is Violet\")\n",
    "else:\n",
    "    print(\"No Match\")\n",
    "\n"
   ]
  },
  {
   "cell_type": "code",
   "execution_count": 9,
   "metadata": {},
   "outputs": [
    {
     "name": "stdout",
     "output_type": "stream",
     "text": [
      "What is your favorite rainbow color? I\n",
      "Your color is:  Indigo\n"
     ]
    }
   ],
   "source": [
    "# [ ] make the code above into a function rainbow_color() that has a string parameter, \n",
    "# get input and call the function and return the matching color as a string or \"no match\" message.\n",
    "# Call the function and print the return string.\n",
    "\n",
    "def rainbow_color (rbow_color):\n",
    "    if rbow_color == \"R\":\n",
    "        return \"Red\"\n",
    "    elif rbow_color == \"O\":\n",
    "        return \"Orange\"\n",
    "    elif rbow_color == \"Y\":\n",
    "        return \"Yellow\"\n",
    "    elif rbow_color == \"G\":\n",
    "        return \"'Green'\"\n",
    "    elif rbow_color == \"B\":\n",
    "        return \"Blue\"\n",
    "    elif rbow_color == \"I\":\n",
    "        return \"Indigo\"\n",
    "    elif rbow_color == \"V\":\n",
    "        return \"Violet\"\n",
    "    else:\n",
    "        return \"No Match\"\n",
    "rbow_color = input(\"What is your favorite rainbow color? \").upper()\n",
    "print(\"Your color is: \", rainbow_color(rbow_color))\n"
   ]
  },
  {
   "cell_type": "markdown",
   "metadata": {},
   "source": [
    "# &nbsp;  \n",
    "**Create function age_20() that adds or subtracts 20 from your age for a return value based on current age** (use `if`) \n",
    "- call the funtion with user input and then use the return value in a sentence  \n",
    "example `age_20(25)` returns **5**: \n",
    "> \"5 years old, 20 years difference from now\""
   ]
  },
  {
   "cell_type": "code",
   "execution_count": 10,
   "metadata": {},
   "outputs": [
    {
     "name": "stdout",
     "output_type": "stream",
     "text": [
      "Enter your age: 45\n",
      "25 years old, 20 years difference from now\n"
     ]
    }
   ],
   "source": [
    "# [ ] complete age_20()\n",
    "\n",
    "def age_20(age):\n",
    "    if int(age) >= 20:\n",
    "        return int(age)-20\n",
    "    else:\n",
    "        return 20-int(age)\n",
    "current_age = input(\"Enter your age: \")\n",
    "if current_age.isdigit():\n",
    "    print(str(age_20(current_age)),\"years old, 20 years difference from now\")\n",
    "else:\n",
    "    print(\"Error: Invalid age\")\n",
    "        \n"
   ]
  },
  {
   "cell_type": "markdown",
   "metadata": {},
   "source": [
    "**create a function rainbow_or_age that takes a string argument**\n",
    "- if argument is a digit return the value of calling age_20() with the str value cast as **`int`** \n",
    "- if argument is an alphabetical character return the value of calling rainbow_color() with the str\n",
    "- if neither return FALSE"
   ]
  },
  {
   "cell_type": "code",
   "execution_count": 14,
   "metadata": {},
   "outputs": [
    {
     "name": "stdout",
     "output_type": "stream",
     "text": [
      "Enter a color or age: I\n"
     ]
    },
    {
     "data": {
      "text/plain": [
       "'Indigo'"
      ]
     },
     "execution_count": 14,
     "metadata": {},
     "output_type": "execute_result"
    }
   ],
   "source": [
    "# [ ]  create rainbow_or_age()\n",
    "\n",
    "def rainbow_or_age(roa):\n",
    "    if roa.isdigit():\n",
    "        return age_20(roa)\n",
    "    elif roa.isalpha():\n",
    "        return rainbow_color(roa.upper())\n",
    "    else:\n",
    "        return False\n",
    "rainbow_or_age(input(\"Enter a color or age: \"))\n",
    "    "
   ]
  },
  {
   "cell_type": "code",
   "execution_count": 23,
   "metadata": {},
   "outputs": [
    {
     "name": "stdout",
     "output_type": "stream",
     "text": [
      "Enter #1: 9\n",
      "Enter #2: 2\n",
      "The Sum is 11\n"
     ]
    }
   ],
   "source": [
    "# [ ]  add 2 numbers from input using a cast to integer and display the answer \n",
    "\n",
    "num1 = input(\"Enter #1: \")\n",
    "num2 = input(\"Enter #2: \")\n",
    "\n",
    "if num1.isdigit() and num2.isdigit():\n",
    "    sum12 = int(num1) + int(num2)\n",
    "    print(\"The Sum is\",sum12)\n",
    "else:\n",
    "    print(\"Invalid input\")"
   ]
  },
  {
   "cell_type": "code",
   "execution_count": 22,
   "metadata": {},
   "outputs": [
    {
     "name": "stdout",
     "output_type": "stream",
     "text": [
      "Enter #1: 5\n",
      "Enter #2: 7\n",
      "The Product is 35\n"
     ]
    }
   ],
   "source": [
    "# [ ] Multiply 2 numbers from input using cast and save the answer as part of a string \"the answer is...\"\n",
    "# display the string using print\n",
    "\n",
    "num1 = input(\"Enter #1: \")\n",
    "num2 = input(\"Enter #2: \")\n",
    "\n",
    "if num1.isdigit() and num2.isdigit():\n",
    "    prod12 = int(num1) * int(num2)\n",
    "    print(\"The Product is\", prod12)\n",
    "else:\n",
    "    print(\"Invalid input\")\n"
   ]
  },
  {
   "cell_type": "code",
   "execution_count": 21,
   "metadata": {},
   "outputs": [
    {
     "name": "stdout",
     "output_type": "stream",
     "text": [
      "Enter #1: 4\n",
      "Enter #2: 3\n",
      "The Average is 3.5\n"
     ]
    }
   ],
   "source": [
    "# [ ] get input of 2 numbers and display the average: (num1 + num2) divided by 2\n",
    "\n",
    "num1 = input(\"Enter #1: \")\n",
    "num2 = input(\"Enter #2: \")\n",
    "\n",
    "if num1.isdigit() and num2.isdigit():\n",
    "    ave12 = (int(num1) + int(num2))/2\n",
    "    print(\"The Average is\", ave12)\n",
    "else:\n",
    "    print(\"Invalid input\")\n",
    "    "
   ]
  },
  {
   "cell_type": "code",
   "execution_count": 24,
   "metadata": {},
   "outputs": [
    {
     "name": "stdout",
     "output_type": "stream",
     "text": [
      "Enter #1: 4\n",
      "Enter #2: 8\n",
      "The difference is 4\n"
     ]
    }
   ],
   "source": [
    "# [ ] get input of 2 numbers and subtract the largest from the smallest (use an if statement to see which is larger)\n",
    "# show the answer\n",
    "\n",
    "num1 = input(\"Enter #1: \")\n",
    "num2 = input(\"Enter #2: \")\n",
    "\n",
    "if num1.isdigit() and num2.isdigit():\n",
    "    int_num1 = int(num1)\n",
    "    int_num2 = int(num2)\n",
    "    if int_num1 >= int_num2:\n",
    "        diff12 = int_num1 - int_num2\n",
    "    else:\n",
    "        diff12 = int_num2 - int_num1\n",
    "    print(\"The difference is\",diff12)\n",
    "else:\n",
    "    print(\"Invalid input\")\n",
    "        "
   ]
  },
  {
   "cell_type": "code",
   "execution_count": 26,
   "metadata": {},
   "outputs": [
    {
     "name": "stdout",
     "output_type": "stream",
     "text": [
      "Enter #1: 8\n",
      "Enter #2: 5\n",
      "The Quotient is 1\n"
     ]
    }
   ],
   "source": [
    "# [ ] Divide a larger number by a smaller number and print the integer part of the result\n",
    "# don't divide by zero! if a zero is input make the result zero\n",
    "# [ ] cast the answer to an integer to cut off the decimals and print the result\n",
    "\n",
    "num1 = input(\"Enter #1: \")\n",
    "num2 = input(\"Enter #2: \")\n",
    "\n",
    "if num1.isdigit() and num2.isdigit():\n",
    "    int_num1 = int(num1)\n",
    "    int_num2 = int(num2)\n",
    "    if int_num1 == 0 or int_num2 == 0:\n",
    "        quot12 = 0\n",
    "    elif int_num1 >= int_num2:\n",
    "        quot12 = int_num1 / int_num2\n",
    "    else:\n",
    "        quot12 = int_num2 / int_num1\n",
    "    print(\"The Quotient is\",int(quot12))\n",
    "else:\n",
    "    print(\"Invalid input\")"
   ]
  },
  {
   "cell_type": "markdown",
   "metadata": {},
   "source": [
    "[Terms of use](http://go.microsoft.com/fwlink/?LinkID=206977) &nbsp; [Privacy & cookies](https://go.microsoft.com/fwlink/?LinkId=521839) &nbsp; © 2017 Microsoft"
   ]
  }
 ],
 "metadata": {
  "anaconda-cloud": {},
  "kernelspec": {
   "display_name": "Python 3",
   "language": "python",
   "name": "python3"
  },
  "language_info": {
   "codemirror_mode": {
    "name": "ipython",
    "version": 3
   },
   "file_extension": ".py",
   "mimetype": "text/x-python",
   "name": "python",
   "nbconvert_exporter": "python",
   "pygments_lexer": "ipython3",
   "version": "3.8.3"
  }
 },
 "nbformat": 4,
 "nbformat_minor": 1
}

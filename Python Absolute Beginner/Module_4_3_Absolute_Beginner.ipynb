{
 "cells": [
  {
   "cell_type": "markdown",
   "metadata": {},
   "source": [
    "# 1-7.1 Intro Python\n",
    "## `while()` loops & increments\n",
    "- **while `True`  or forever loops**\n",
    "- **incrementing in loops**\n",
    "- Boolean operators in while loops\n",
    "\n",
    "\n",
    "-----  \n",
    "\n",
    "><font size=\"5\" color=\"#00A0B2\"  face=\"verdana\"> <B>Student will be able to</B></font>\n",
    "- **create forever loops using `while` and `break`**\n",
    "- **use incrementing variables in a while loop**\n",
    "- control while loops using Boolean operators"
   ]
  },
  {
   "cell_type": "markdown",
   "metadata": {},
   "source": [
    "# &nbsp;\n",
    "<font size=\"6\" color=\"#00A0B2\"  face=\"verdana\"> <B>Concepts</B></font>\n",
    "## `while True:`\n",
    "### Using the 'while True:' loop\n",
    "[![view video](https://iajupyterprodblobs.blob.core.windows.net/imagecontainer/common/play_video.png)]( http://edxinteractivepage.blob.core.windows.net/edxpages/f7cff1a7-5601-48a1-95a6-fd1fdfabd20e.html?details=[{\"src\":\"http://jupyternootbookwams.streaming.mediaservices.windows.net/f43862cd-7cdc-45a3-adb1-a07dcbd9ae16/Unit1_Section7.1-while-forever.ism/manifest\",\"type\":\"application/vnd.ms-sstr+xml\"}],[{\"src\":\"http://jupyternootbookwams.streaming.mediaservices.windows.net/f43862cd-7cdc-45a3-adb1-a07dcbd9ae16/Unit1_Section7.1-while-forever.vtt\",\"srclang\":\"en\",\"kind\":\"subtitles\",\"label\":\"english\"}])\n",
    "\n",
    "**`while True:`** is known as the **forever loop** because it ...loops forever  \n",
    "\n",
    "Using the **`while True:`** statement results in a loop that continues to run forever   \n",
    "...or, until the loop is interrupted, such as with a **`break`** statement  \n",
    "\n",
    "## `break`\n",
    "### in a `while` loop, causes code flow to exit the loop  \n",
    "a **conditional** can implement **`break`** to exit a **`while True`** loop  "
   ]
  },
  {
   "cell_type": "markdown",
   "metadata": {},
   "source": [
    "# &nbsp;\n",
    "<font size=\"6\" color=\"#00A0B2\"  face=\"verdana\"> <B>Examples</B></font>\n",
    "## `while True` loops forever unless a `break` statement is used  "
   ]
  },
  {
   "cell_type": "code",
   "execution_count": 1,
   "metadata": {},
   "outputs": [
    {
     "name": "stdout",
     "output_type": "stream",
     "text": [
      "write forever, unless there is a \"break\"\n"
     ]
    }
   ],
   "source": [
    "# Review and run code\n",
    "# this example never loops because the break has no conditions\n",
    "while True:\n",
    "    print('write forever, unless there is a \"break\"')\n",
    "    break"
   ]
  },
  {
   "cell_type": "code",
   "execution_count": 2,
   "metadata": {},
   "outputs": [
    {
     "name": "stdout",
     "output_type": "stream",
     "text": [
      "guess the number 1 to 5: 4\n",
      "4 is incorrect\n",
      "\n",
      "guess the number 1 to 5: 5\n",
      "Yes 5 is correct!\n",
      "\n"
     ]
    }
   ],
   "source": [
    "# [ ] review the NUMBER GUESS code then run - Q. what cause the break statement to run?\n",
    "number_guess = \"0\"\n",
    "secret_number = \"5\"\n",
    "\n",
    "while True:\n",
    "    number_guess = input(\"guess the number 1 to 5: \")\n",
    "    if number_guess == secret_number:\n",
    "        print(\"Yes\", number_guess,\"is correct!\\n\")\n",
    "        break\n",
    "    else:\n",
    "        print(number_guess,\"is incorrect\\n\")"
   ]
  },
  {
   "cell_type": "code",
   "execution_count": 5,
   "metadata": {},
   "outputs": [
    {
     "name": "stdout",
     "output_type": "stream",
     "text": [
      "Enter weather (sunny, rainy, snowy, or quit): cold\n",
      "\n",
      "Sorry, not sure what to suggest for cold\n",
      "\n",
      "Enter weather (sunny, rainy, snowy, or quit): sunny\n",
      "\n",
      "Wear a t-shirt and sunscreen\n"
     ]
    }
   ],
   "source": [
    "# [ ] review WHAT TO WEAR code then run testing different inputs\n",
    "while True:\n",
    "    weather = input(\"Enter weather (sunny, rainy, snowy, or quit): \") \n",
    "    print()\n",
    "\n",
    "    if weather.lower() == \"sunny\":\n",
    "        print(\"Wear a t-shirt and sunscreen\")\n",
    "        break\n",
    "    elif weather.lower() == \"rainy\":\n",
    "        print(\"Bring an umbrella and boots\")\n",
    "        break\n",
    "    elif weather.lower() == \"snowy\":\n",
    "        print(\"Wear a warm coat and hat\")\n",
    "        break\n",
    "    elif weather.lower().startswith(\"q\"):\n",
    "        print('\"quit\" detected, exiting')\n",
    "        break\n",
    "    else:\n",
    "        print(\"Sorry, not sure what to suggest for\", weather +\"\\n\")"
   ]
  },
  {
   "cell_type": "markdown",
   "metadata": {},
   "source": [
    "# &nbsp;\n",
    "<font size=\"6\" color=\"#B24C00\"  face=\"verdana\"> <B>Task 1</B></font>\n",
    "## `while True` \n",
    "### [ ] Program: Get a name forever ...or until done\n",
    "- create variable, familar_name, and assign it an empty string (**`\"\"`**)\n",
    "- use **`while True:`**\n",
    "- ask for user input for familar_name (common name friends/family use) \n",
    "- keep asking until given a non-blank/non-space alphabetical name is received (Hint: Boolean string test)\n",
    "- break loop and print a greeting using familar_name"
   ]
  },
  {
   "cell_type": "code",
   "execution_count": 13,
   "metadata": {},
   "outputs": [
    {
     "name": "stdout",
     "output_type": "stream",
     "text": [
      "Please ener a familiar name: \n",
      "amy\n",
      "Hi amy , welcome to python!\n"
     ]
    }
   ],
   "source": [
    "# [ ] create Get Name program\n",
    "\n",
    "while True:\n",
    "    familiar_name = input(\"Please ener a familiar name: \\n\")\n",
    "    \n",
    "    if familiar_name.isalpha() == True:\n",
    "        print(\"Hi\", familiar_name, \", welcome to python!\")\n",
    "        break\n",
    "              \n",
    "    else:\n",
    "        print(\"Input has to be one word with no spaces\\n\")"
   ]
  },
  {
   "cell_type": "markdown",
   "metadata": {
    "collapsed": true
   },
   "source": [
    "# &nbsp;\n",
    "<font size=\"6\" color=\"#00A0B2\"  face=\"verdana\"> <B>Concept</B></font>\n",
    "## Incrementing a variable\n",
    "[![view video](https://iajupyterprodblobs.blob.core.windows.net/imagecontainer/common/play_video.png)]( http://edxinteractivepage.blob.core.windows.net/edxpages/f7cff1a7-5601-48a1-95a6-fd1fdfabd20e.html?details=[{%22src%22:%22http://jupyternootbookwams.streaming.mediaservices.windows.net/cc7925d2-0652-4659-93fb-f4cc8d09ac51/Unit1_Section7.1-increment.ism/manifest%22,%22type%22:%22application/vnd.ms-sstr+xml%22}],[{%22src%22:%22http://jupyternootbookwams.streaming.mediaservices.windows.net/cc7925d2-0652-4659-93fb-f4cc8d09ac51/Unit1_Section7.1-increment.vtt%22,%22srclang%22:%22en%22,%22kind%22:%22subtitles%22,%22label%22:%22english%22}])\n",
    "## Incrementing\n",
    "### `votes = votes + 1` &nbsp; &nbsp; or &nbsp;  `votes += 1`\n",
    "\n",
    "## Decrementing \n",
    "### `votes = votes - 1` &nbsp; &nbsp; or &nbsp; `votes -= 1`"
   ]
  },
  {
   "cell_type": "markdown",
   "metadata": {},
   "source": [
    "# &nbsp;\n",
    "<font size=\"6\" color=\"#00A0B2\"  face=\"verdana\"> <B>Examples</B></font>\n",
    "  \n"
   ]
  },
  {
   "cell_type": "code",
   "execution_count": 14,
   "metadata": {},
   "outputs": [
    {
     "name": "stdout",
     "output_type": "stream",
     "text": [
      "3\n",
      "4\n",
      "6\n"
     ]
    }
   ],
   "source": [
    "# [ ] review and run example\n",
    "votes = 3\n",
    "print(votes)\n",
    "\n",
    "votes = votes + 1\n",
    "print(votes)\n",
    "\n",
    "votes += 2\n",
    "print(votes)"
   ]
  },
  {
   "cell_type": "code",
   "execution_count": 15,
   "metadata": {},
   "outputs": [
    {
     "name": "stdout",
     "output_type": "stream",
     "text": [
      "6\n",
      "5\n"
     ]
    }
   ],
   "source": [
    "print(votes)\n",
    "\n",
    "votes -= 1\n",
    "print(votes)"
   ]
  },
  {
   "cell_type": "code",
   "execution_count": 16,
   "metadata": {},
   "outputs": [
    {
     "name": "stdout",
     "output_type": "stream",
     "text": [
      "seat count: 0\n",
      "seat count: 1\n",
      "seat count: 2\n",
      "seat count: 3\n",
      "seat count: 4\n"
     ]
    }
   ],
   "source": [
    "# [ ] review the SEAT COUNT code then run \n",
    "\n",
    "seat_count = 0\n",
    "while True:\n",
    "    print(\"seat count:\",seat_count)\n",
    "    seat_count = seat_count + 1\n",
    "\n",
    "    if seat_count > 4:\n",
    "        break"
   ]
  },
  {
   "cell_type": "code",
   "execution_count": 18,
   "metadata": {},
   "outputs": [
    {
     "name": "stdout",
     "output_type": "stream",
     "text": [
      "enter seat type of \"hard\",\"soft\" or \"exit\" (to finish): soft\n",
      "enter seat type of \"hard\",\"soft\" or \"exit\" (to finish): soft\n",
      "enter seat type of \"hard\",\"soft\" or \"exit\" (to finish): soft\n",
      "enter seat type of \"hard\",\"soft\" or \"exit\" (to finish): soft\n",
      "\n",
      "seats are full\n",
      "4 Seats Total:  0 hard and 4 soft\n"
     ]
    }
   ],
   "source": [
    "# [ ] review the SEAT TYPE COUNT code then run entering: hard, soft, medium and exit\n",
    "\n",
    "# initialize variables\n",
    "seat_count = 0\n",
    "soft_seats = 0\n",
    "hard_seats = 0\n",
    "num_seats = 4\n",
    "\n",
    "# loops tallying seats using soft pads vs hard, until seats full or user \"exits\"\n",
    "while True:\n",
    "    seat_type = input('enter seat type of \"hard\",\"soft\" or \"exit\" (to finish): ')\n",
    "    \n",
    "    if seat_type.lower().startswith(\"e\"):\n",
    "        print()\n",
    "        break\n",
    "    elif seat_type.lower() == \"hard\":\n",
    "        hard_seats += 1\n",
    "    elif seat_type.lower() == \"soft\":\n",
    "        soft_seats += 1\n",
    "    else:\n",
    "        print(\"invalid entry: counted as hard\")\n",
    "        hard_seats += 1  \n",
    "    seat_count += 1\n",
    "    if seat_count >= num_seats:\n",
    "        print(\"\\nseats are full\")\n",
    "        break\n",
    "        \n",
    "print(seat_count,\"Seats Total: \",hard_seats,\"hard and\",soft_seats,\"soft\" )"
   ]
  },
  {
   "cell_type": "markdown",
   "metadata": {},
   "source": [
    "# &nbsp;\n",
    "<font size=\"6\" color=\"#B24C00\"  face=\"verdana\"> <B>Task 2</B></font>\n",
    "## incrementing in a `while()` loop\n",
    "### Program: Shirt Count\n",
    "- enter a sizes (S, M, L)\n",
    "- tally the count of each size\n",
    "- input \"exit\" when finished\n",
    "- report out the purchase of each shirt size  \n"
   ]
  },
  {
   "cell_type": "code",
   "execution_count": 19,
   "metadata": {},
   "outputs": [
    {
     "name": "stdout",
     "output_type": "stream",
     "text": [
      "Enter the shirt size you would like to buy (s, m, l) or type \"q\" to quit the program: l\n",
      "Enter the shirt size you would like to buy (s, m, l) or type \"q\" to quit the program: m\n",
      "Enter the shirt size you would like to buy (s, m, l) or type \"q\" to quit the program: s\n",
      "Enter the shirt size you would like to buy (s, m, l) or type \"q\" to quit the program: xl\n",
      "Incorrect input.\n",
      "Program can't count your chosen shirt size, please enter either \"s, m, l\":\n",
      "Enter the shirt size you would like to buy (s, m, l) or type \"q\" to quit the program: l\n",
      "Enter the shirt size you would like to buy (s, m, l) or type \"q\" to quit the program: l\n",
      "Total number of shirts 5 \n",
      "Small =  1 \n",
      "Medium =  1 \n",
      "Large =  3\n",
      "6 Shirts Total:  1 small, 1 medium and 3 large\n"
     ]
    }
   ],
   "source": [
    "# [ ] Create the Shirt Count program, run tests\n",
    "\n",
    "shirt_s = 0\n",
    "shirt_m = 0\n",
    "shirt_l = 0\n",
    "shirt_count = 0\n",
    "total_num_shirts = 5\n",
    "\n",
    "while True:\n",
    "    size_input = input(\"Enter the shirt size you would like to buy (s, m, l) or type \\\"q\\\" to quit the program: \")\n",
    "    \n",
    "    if size_input.lower() == \"q\":\n",
    "        print()\n",
    "        break\n",
    "        \n",
    "    elif size_input.lower() == \"s\":\n",
    "        shirt_s += 1\n",
    "    elif size_input.lower() == \"m\":\n",
    "        shirt_m += 1\n",
    "    elif size_input.lower() == \"l\":\n",
    "        shirt_l += 1\n",
    "    else:\n",
    "        print(\"Incorrect input.\\nProgram can't count your chosen shirt size, please enter either \\\"s, m, l\\\":\")\n",
    "    \n",
    "    shirt_count += 1\n",
    "    \n",
    "    if shirt_count > 5:\n",
    "        print(\"Total number of shirts\",total_num_shirts, \"\\nSmall = \",shirt_s, \"\\nMedium = \",shirt_m, \"\\nLarge = \",shirt_l)\n",
    "        break\n",
    "        \n",
    "print(shirt_count,\"Shirts Total: \",shirt_s,\"small,\",shirt_m,\"medium and\",shirt_l,\"large\")"
   ]
  },
  {
   "cell_type": "markdown",
   "metadata": {},
   "source": [
    "### CHALLENGE: Shirt Register (optional)  \n",
    "Update the **Shirt Count** program to calculate cost\n",
    "- use shirt cost (S = 6, M = 7, L = 8)\n",
    "- to calculate and report the subtotal cost for each size \n",
    "- to calculate and report the total cost of all shirts"
   ]
  },
  {
   "cell_type": "code",
   "execution_count": 22,
   "metadata": {},
   "outputs": [
    {
     "name": "stdout",
     "output_type": "stream",
     "text": [
      "Enter the shirt size you would like to buy (s, m, l) or type \"q\" to quit the program: l\n",
      "Enter the shirt size you would like to buy (s, m, l) or type \"q\" to quit the program: m\n",
      "Enter the shirt size you would like to buy (s, m, l) or type \"q\" to quit the program: l\n",
      "Enter the shirt size you would like to buy (s, m, l) or type \"q\" to quit the program: l\n",
      "Enter the shirt size you would like to buy (s, m, l) or type \"q\" to quit the program: l\n",
      "\n",
      "5 Shirts Total:  0 small, 1 medium and 4 large\n",
      "Total shirts sold R 39 Small = R 0 Medium = R 7 Large = R 32\n"
     ]
    }
   ],
   "source": [
    "# [ ] Create the Shirt Register program, run tests\n",
    "\n",
    "shirt_s = 0\n",
    "shirt_m = 0\n",
    "shirt_l = 0\n",
    "shirt_count = 0\n",
    "total_num_shirts = 5\n",
    "\n",
    "s_cost = 0\n",
    "m_cost = 0\n",
    "l_cost = 0\n",
    "cost_count = 0\n",
    "\n",
    "while True:\n",
    "    size_input = input(\"Enter the shirt size you would like to buy (s, m, l) or type \\\"q\\\" to quit the program: \")\n",
    "    \n",
    "  \n",
    "    if size_input.lower() == \"q\":\n",
    "        print()\n",
    "        break\n",
    "\n",
    "\n",
    "    elif size_input.lower() == \"s\":\n",
    "        shirt_s += 1\n",
    "        s_cost += 6\n",
    "\n",
    "    elif size_input.lower() == \"m\":\n",
    "        shirt_m += 1\n",
    "        m_cost += 7\n",
    "\n",
    "    elif size_input.lower() == \"l\":\n",
    "        shirt_l += 1\n",
    "        l_cost += 8\n",
    "    \n",
    "    else:\n",
    "        print(\"Incorrect input.\\nProgram can't count your chosen shirt size, please enter either \\\"s, m, l\\\": \")\n",
    "        \n",
    "    shirt_count += 1  \n",
    "    total_cost_count = s_cost + m_cost + l_cost\n",
    "    \n",
    "    if shirt_count > 4:\n",
    "        print()\n",
    "    \n",
    "        break\n",
    "print(shirt_count,\"Shirts Total: \",shirt_s,\"small,\",shirt_m,\"medium and\",shirt_l,\"large\" )\n",
    "print(\"Total shirts sold R\",total_cost_count, \"Small = R\",s_cost, \"Medium = R\", m_cost, \"Large = R\",l_cost)\n"
   ]
  },
  {
   "cell_type": "markdown",
   "metadata": {},
   "source": [
    "[Terms of use](http://go.microsoft.com/fwlink/?LinkID=206977) &nbsp; [Privacy & cookies](https://go.microsoft.com/fwlink/?LinkId=521839) &nbsp; © 2017 Microsoft"
   ]
  }
 ],
 "metadata": {
  "anaconda-cloud": {},
  "kernelspec": {
   "display_name": "Python 3",
   "language": "python",
   "name": "python3"
  },
  "language_info": {
   "codemirror_mode": {
    "name": "ipython",
    "version": 3
   },
   "file_extension": ".py",
   "mimetype": "text/x-python",
   "name": "python",
   "nbconvert_exporter": "python",
   "pygments_lexer": "ipython3",
   "version": "3.8.3"
  }
 },
 "nbformat": 4,
 "nbformat_minor": 1
}

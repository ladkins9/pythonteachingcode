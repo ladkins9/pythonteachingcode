{
 "cells": [
  {
   "cell_type": "markdown",
   "metadata": {},
   "source": [
    "# 1-6.2 Intro Python Practice\n",
    "## Nested Conditionals\n",
    "<font size=\"5\" color=\"#00A0B2\"  face=\"verdana\"> <B>Student will be able to</B></font>\n",
    "- create nested conditional logic in code  \n",
    "- print format print using escape sequence (**\\**)"
   ]
  },
  {
   "cell_type": "markdown",
   "metadata": {},
   "source": [
    "# &nbsp;\n",
    "<font size=\"6\" color=\"#B24C00\"  face=\"verdana\"> <B>Tasks</B></font>  "
   ]
  },
  {
   "cell_type": "code",
   "execution_count": 27,
   "metadata": {},
   "outputs": [
    {
     "name": "stdout",
     "output_type": "stream",
     "text": [
      "The new line character is \"\\n\"\n"
     ]
    }
   ],
   "source": [
    "# [ ] print a string that outputs the following exactly: The new line character is \"\\n\"\n",
    "\n",
    "print('The new line character is \"\\\\n\"')"
   ]
  },
  {
   "cell_type": "code",
   "execution_count": null,
   "metadata": {},
   "outputs": [],
   "source": [
    "# [ ] print output that is exactly (with quotes): \"That's how we escape!\"\n",
    "\n"
   ]
  },
  {
   "cell_type": "code",
   "execution_count": 18,
   "metadata": {},
   "outputs": [
    {
     "name": "stdout",
     "output_type": "stream",
     "text": [
      "# 1\tone\t# 22\ttwo\t# 333\tthree\n"
     ]
    }
   ],
   "source": [
    "# [ ] with only 1 print statement and using No Space Characters, output the text commented below  \n",
    "\n",
    "# 1       one\n",
    "# 22      two\n",
    "# 333     three\n",
    "\n",
    "print(\"# 1\\tone\\t# 22\\ttwo\\t# 333\\tthree\")"
   ]
  },
  {
   "cell_type": "markdown",
   "metadata": {},
   "source": [
    "# &nbsp;\n",
    "## Program: quote_me() Function\n",
    "quote_me takes a string argument and returns a string that will display surrounded with **added double quotes** if printed  \n",
    "- check if passed string starts with a double quote (`\"\\\"\"`), then surround string with single quotations \n",
    "- if the passed string starts with single quote, or if doesn't start with a quotation mark, then surround with double quotations  \n",
    "\n",
    "Test the function code passing string input as the argument to quote_me() "
   ]
  },
  {
   "cell_type": "code",
   "execution_count": 19,
   "metadata": {},
   "outputs": [
    {
     "name": "stdout",
     "output_type": "stream",
     "text": [
      "Enter your string here: hello, how are you?\n",
      "\"hello, how are you?\"\n"
     ]
    }
   ],
   "source": [
    "# [ ] create and test quote_me()\n",
    "\n",
    "def quote_me(word):\n",
    "    \n",
    "    if word.startswith(\"\\\"\"):\n",
    "        return \"\\'\" + word + \"\\'\"\n",
    "    \n",
    "    else:\n",
    "        return \"\\\"\" + word + \"\\\"\"\n",
    "    \n",
    "\n",
    "print(quote_me(input(\"Enter your string here: \")))\n"
   ]
  },
  {
   "cell_type": "markdown",
   "metadata": {},
   "source": [
    "# &nbsp;\n",
    "### Program: shirt order \n",
    "First get input for color and size  \n",
    "- White has sizes L, M \n",
    "- Blue has sizes M, S  \n",
    "\n",
    "print available or unavailable, then  \n",
    "print the order confirmation of color and size  \n",
    "\n",
    "*\n",
    "**hint**: set a variable \"available = False\" before nested if statements and  \n",
    "change to True if color and size are avaliable*"
   ]
  },
  {
   "cell_type": "code",
   "execution_count": 21,
   "metadata": {},
   "outputs": [
    {
     "name": "stdout",
     "output_type": "stream",
     "text": [
      "Input shirt color: red\n",
      "Input shirt size: m\n",
      "Your order is Available: M size RED shirt.\n"
     ]
    }
   ],
   "source": [
    "# [ ] create shirt order using nested if \n",
    "\n",
    "color = input(\"Input shirt color: \").lower()\n",
    "size = input(\"Input shirt size: \").upper()\n",
    "\n",
    "if color == \"blue\":\n",
    "    if size == \"L\" or size == \"M\":\n",
    "        available = True\n",
    "        \n",
    "elif color == \"red\":\n",
    "    if size == \"M\" or size == \"S\":\n",
    "        available = True\n",
    "\n",
    "if available:\n",
    "    print(\"Your order is Available:\", size.upper(),\"size\", color.upper() ,\"shirt.\")\n",
    "    \n",
    "else:\n",
    "    print(\"Your order is NOT Available.\")"
   ]
  },
  {
   "cell_type": "markdown",
   "metadata": {},
   "source": [
    "# &nbsp;\n",
    "## Program: str_analysis() Function\n",
    "Create the str_analysis() function that takes a string argument.  In the body of the function:\n",
    "- Check `if` string is digits  \n",
    "  - if digits: convert to `int` and check `if` greater than 99  \n",
    "    - if greater than 99, print a message about a \"big number\"  \n",
    "    - if not greater than 99, print message about \"small number\"    \n",
    "  - if not digits: check if string isalpha\n",
    "    - if isalpha print message about being all alpha\n",
    "    - if not isalpha print a message about being neither all alpha nor all digit  \n",
    "    \n",
    "call the function with a string from user input "
   ]
  },
  {
   "cell_type": "code",
   "execution_count": 23,
   "metadata": {},
   "outputs": [
    {
     "name": "stdout",
     "output_type": "stream",
     "text": [
      "Input a string: 45\n",
      "your string is a small number\n"
     ]
    }
   ],
   "source": [
    "# [ ] create and test str_analysis()\n",
    "\n",
    "def str_analysis(number):\n",
    "    if number.isdigit():\n",
    "        int_number = int(number)\n",
    "        \n",
    "        if int_number >= 99:\n",
    "            print(\"your string is a big number\")\n",
    "            \n",
    "        else:\n",
    "            print(\"your string is a small number\")\n",
    "            \n",
    "    elif number.isalpha():\n",
    "        print(\"your string is all alpha\")\n",
    "        \n",
    "    else:\n",
    "        print(\"your string is neither a number nor all alpha\")\n",
    "        \n",
    "        \n",
    "str_analysis(input(\"Input a string: \"))       "
   ]
  },
  {
   "cell_type": "markdown",
   "metadata": {
    "collapsed": true
   },
   "source": [
    "# &nbsp;  \n",
    "### Program: ticket_check() - finds out if a seat is available  \n",
    "Call ticket_check() function with 2 arguments: *section* and *seats* requested and return True or False  \n",
    "- **section** is a string and expects: general, floor\n",
    "- **seats** is an integer and expects: 1 - 10  \n",
    "\n",
    "Check for valid section and seats\n",
    "- if section is *general* (or use startswith \"g\")  \n",
    "  - if seats is 1-10 return True \n",
    "- if section is *floor* (or use starts with \"f\")\n",
    "  - if seats is 1-4 return True  \n",
    "\n",
    "otherwise return False"
   ]
  },
  {
   "cell_type": "code",
   "execution_count": 24,
   "metadata": {},
   "outputs": [
    {
     "name": "stdout",
     "output_type": "stream",
     "text": [
      "Enter section: b\n",
      "Enter seat no.: 3\n",
      "Your seat is NOT Available.\n"
     ]
    }
   ],
   "source": [
    "# [ ] create and call ticket_check()\n",
    "\n",
    "def ticket_check(section, seats):\n",
    "    if section.startswith(\"g\") or section == \"general\":\n",
    "        \n",
    "        if seats.isdigit():\n",
    "            int_seats = int(seats)\n",
    "            \n",
    "            if int_seats >= 1 and int_seats <= 10:\n",
    "                return True\n",
    "            \n",
    "    elif section.startswith(\"f\") or section == \"floor\":\n",
    "        if seats.isdigit():\n",
    "            int_seats = int(seats)\n",
    "            \n",
    "            if int_seats >= 1 and int_seats <= 4:\n",
    "                return True\n",
    "    else:\n",
    "        return False\n",
    "    \n",
    "available_seat = False\n",
    "\n",
    "available_seat = ticket_check(input(\"Enter section: \").lower(), input(\"Enter seat no.: \"))\n",
    "\n",
    "if available_seat:\n",
    "    print(\"Your seat is Available.\")\n",
    "    \n",
    "else:\n",
    "    print(\"Your seat is NOT Available.\")"
   ]
  },
  {
   "cell_type": "markdown",
   "metadata": {
    "collapsed": true
   },
   "source": [
    "[Terms of use](http://go.microsoft.com/fwlink/?LinkID=206977) &nbsp; [Privacy & cookies](https://go.microsoft.com/fwlink/?LinkId=521839) &nbsp; © 2017 Microsoft"
   ]
  }
 ],
 "metadata": {
  "anaconda-cloud": {},
  "kernelspec": {
   "display_name": "Python 3",
   "language": "python",
   "name": "python3"
  },
  "language_info": {
   "codemirror_mode": {
    "name": "ipython",
    "version": 3
   },
   "file_extension": ".py",
   "mimetype": "text/x-python",
   "name": "python",
   "nbconvert_exporter": "python",
   "pygments_lexer": "ipython3",
   "version": "3.8.3"
  }
 },
 "nbformat": 4,
 "nbformat_minor": 1
}

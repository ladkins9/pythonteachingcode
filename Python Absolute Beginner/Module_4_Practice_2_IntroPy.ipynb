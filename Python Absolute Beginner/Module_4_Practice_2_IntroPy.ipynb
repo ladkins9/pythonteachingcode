{
 "cells": [
  {
   "cell_type": "markdown",
   "metadata": {},
   "source": [
    "# 1-7.2 Intro Python Practice\n",
    "## `while()` loops & increments\n",
    "<font size=\"5\" color=\"#00A0B2\"  face=\"verdana\"> <B>Student will be able to</B></font>\n",
    "- create forever loops using `while` and `break`\n",
    "- use incrementing variables in a while loop\n",
    "- control while loops using Boolean operators"
   ]
  },
  {
   "cell_type": "code",
   "execution_count": 4,
   "metadata": {},
   "outputs": [
    {
     "name": "stdout",
     "output_type": "stream",
     "text": [
      "Please enter a number: 2\n",
      "Please enter a number: 4\n",
      "Please enter a number: 3\n",
      "Please enter a number: 7\n",
      "Please enter a number: 6\n",
      "Please enter a number: 6\n",
      "Please enter a number: d\n",
      "The sum of the numbers is: 28\n"
     ]
    }
   ],
   "source": [
    "# [ ] use a \"forever\" while loop to get user input of integers to add to sum, \n",
    "# until a non-digit is entered, then break the loop and print sum\n",
    "sum = 0\n",
    "num = input(\"Please enter a number: \")\n",
    "\n",
    "while num.isdigit() == True:\n",
    "    sum = sum + int(num)\n",
    "    num = input(\"Please enter a number: \")\n",
    "\n",
    "print(\"The sum of the numbers is:\",sum)\n",
    "     "
   ]
  },
  {
   "cell_type": "code",
   "execution_count": 5,
   "metadata": {},
   "outputs": [
    {
     "name": "stdout",
     "output_type": "stream",
     "text": [
      "Enter a color: red\n",
      "Rainbow color found!\n"
     ]
    }
   ],
   "source": [
    "# [ ] use a while True loop (forever loop) to give 4 chances for input of a correct color in a rainbow\n",
    "# rainbow = \"red orange yellow green blue indigo violet\"\n",
    "\n",
    "rainbow = \"red orange yellow green blue indigo violet\"\n",
    "loop = 0\n",
    "\n",
    "while True:\n",
    "    \n",
    "    color = input(\"Enter a color: \").lower()\n",
    "    \n",
    "    if color in rainbow:\n",
    "        \n",
    "        print(\"Rainbow color found!\")\n",
    "        break\n",
    "        \n",
    "    else:\n",
    "        loop += 1\n",
    "    if loop < 4:\n",
    "        pass\n",
    "    \n",
    "    else:\n",
    "        print(\"No more chances!\")\n",
    "        break"
   ]
  },
  {
   "cell_type": "code",
   "execution_count": 7,
   "metadata": {},
   "outputs": [
    {
     "name": "stdout",
     "output_type": "stream",
     "text": [
      "Enter a book title: the color purple\n",
      "Enter a book title: The Color Purple\n",
      "Your book is: The Color Purple\n"
     ]
    }
   ],
   "source": [
    "# [ ] Get input for a book title, keep looping while input is Not in title format (title is every word capitalized)\n",
    "title = \"\"\n",
    "\n",
    "title = \"\"\n",
    "\n",
    "while True:\n",
    "    \n",
    "    title = input(\"Enter a book title: \")\n",
    "    \n",
    "    if title.istitle():\n",
    "        \n",
    "        print(\"Your book is:\",title)\n",
    "        break"
   ]
  },
  {
   "cell_type": "code",
   "execution_count": 3,
   "metadata": {},
   "outputs": [
    {
     "name": "stdout",
     "output_type": "stream",
     "text": [
      "What is 8x8? 45\n",
      "Please try again 62\n",
      "Please try again 64\n",
      "That is correct, the result is 64\n"
     ]
    }
   ],
   "source": [
    "# [ ] create a math quiz question and ask for the solution until the input is correct\n",
    "solution = \"64\"\n",
    "question = input(\"What is 8x8? \")\n",
    "\n",
    "while question != solution:\n",
    "    question = input(\"Please try again \")\n",
    "    \n",
    "print(\"That is correct, the result is\",solution)\n",
    "    "
   ]
  },
  {
   "cell_type": "markdown",
   "metadata": {},
   "source": [
    "### Fix the Error"
   ]
  },
  {
   "cell_type": "code",
   "execution_count": 12,
   "metadata": {},
   "outputs": [
    {
     "name": "stdout",
     "output_type": "stream",
     "text": [
      "enter tickets remaining (0 to quit): 21\n",
      "you win!\n",
      "enter tickets remaining (0 to quit): 5\n",
      "sorry, not a winner.\n",
      "enter tickets remaining (0 to quit): 0\n",
      "Game ended\n"
     ]
    }
   ],
   "source": [
    "# [ ] review the code, run, fix the error\n",
    "tickets = int(input(\"enter tickets remaining (0 to quit): \"))\n",
    "\n",
    "while tickets > 0:\n",
    "        # if tickets are multiple of 3 then \"winner\"\n",
    "    if int(tickets/3) == tickets/3:\n",
    "        print(\"you win!\")\n",
    "    else:\n",
    "        print(\"sorry, not a winner.\")\n",
    "    tickets = int(input(\"enter tickets remaining (0 to quit): \"))\n",
    "\n",
    "print(\"Game ended\")\n"
   ]
  },
  {
   "cell_type": "markdown",
   "metadata": {},
   "source": [
    "### create a function: quiz_item()  that asks a question and tests if input is correct  \n",
    "- quiz_item()has 2 parameter **strings**: question and solution  \n",
    "- shows question, gets answer input  \n",
    "- returns True if `answer == solution` or continues to ask question until correct answer is provided  \n",
    "- use a while loop\n",
    "\n",
    "create 2 or more quiz questions that call quiz_item()  \n",
    "**Hint**: provide multiple choice or T/F answers"
   ]
  },
  {
   "cell_type": "code",
   "execution_count": 2,
   "metadata": {},
   "outputs": [
    {
     "name": "stdout",
     "output_type": "stream",
     "text": [
      "How many legs does a dog have?2\n",
      "Sorry, wrong answer.\n",
      "Please try again: 4\n",
      "True\n",
      "What color is the sun?yellow\n",
      "True\n",
      "What is 5+5?10\n",
      "True\n"
     ]
    }
   ],
   "source": [
    "# Create quiz_item() and 2 or more quiz questions that call quiz_item()\n",
    "\n",
    "def quiz_item(question, solution):\n",
    "    \n",
    "    while True:\n",
    "        if question.lower() == solution:\n",
    "            return True\n",
    "        \n",
    "        else:\n",
    "            print(\"Sorry, wrong answer.\")\n",
    "            ask_again = input(\"Please try again: \")\n",
    "            \n",
    "            if ask_again.lower() == solution:\n",
    "                return True\n",
    "            \n",
    "print(quiz_item(input(\"How many legs does a dog have?\"), \"4\"))\n",
    "print(quiz_item(input(\"What color is the sun?\"), \"yellow\"))\n",
    "print(quiz_item(input(\"What is 5+5?\"), \"10\"))"
   ]
  },
  {
   "cell_type": "markdown",
   "metadata": {
    "collapsed": true
   },
   "source": [
    "[Terms of use](http://go.microsoft.com/fwlink/?LinkID=206977) &nbsp; [Privacy & cookies](https://go.microsoft.com/fwlink/?LinkId=521839) &nbsp; © 2017 Microsoft"
   ]
  }
 ],
 "metadata": {
  "anaconda-cloud": {},
  "kernelspec": {
   "display_name": "Python 3",
   "language": "python",
   "name": "python3"
  },
  "language_info": {
   "codemirror_mode": {
    "name": "ipython",
    "version": 3
   },
   "file_extension": ".py",
   "mimetype": "text/x-python",
   "name": "python",
   "nbconvert_exporter": "python",
   "pygments_lexer": "ipython3",
   "version": "3.8.3"
  }
 },
 "nbformat": 4,
 "nbformat_minor": 1
}
